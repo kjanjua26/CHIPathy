{
 "cells": [
  {
   "cell_type": "code",
   "execution_count": 1,
   "metadata": {},
   "outputs": [],
   "source": [
    "import os\n",
    "import cv2\n",
    "import numpy as np\n",
    "import matplotlib.pyplot as plt\n",
    "\n",
    "from tqdm import tqdm"
   ]
  },
  {
   "cell_type": "code",
   "execution_count": 7,
   "metadata": {},
   "outputs": [],
   "source": [
    "mode = \"test\"\n",
    "anomaly = \"Hard Exudates\""
   ]
  },
  {
   "cell_type": "code",
   "execution_count": 8,
   "metadata": {},
   "outputs": [],
   "source": [
    "images_dir = \"cropnblur/\"+mode\n",
    "masks_dir = \"Groundtruths/crops/\"+mode+\"/\"+anomaly\n",
    "\n",
    "base_path = \"patches/\"+mode+\"/\"+anomaly\n",
    "images_out_dir = base_path+\"/images/\"\n",
    "masks_out_dir = base_path+\"/masks/\""
   ]
  },
  {
   "cell_type": "code",
   "execution_count": 4,
   "metadata": {},
   "outputs": [],
   "source": [
    "def create_patches(image, size, out_dir):\n",
    "    num_patches = image.shape[0] // size\n",
    "    count = 0\n",
    "    for i in range(0, image.shape[0], size):\n",
    "        for j in range(0, image.shape[1], size):\n",
    "            count += 1\n",
    "            \n",
    "            patch = image[i:i+size, j:j+size]\n",
    "            cv2.imwrite(os.path.join(out_dir, str(count)+\".jpg\"), patch)"
   ]
  },
  {
   "cell_type": "code",
   "execution_count": 5,
   "metadata": {},
   "outputs": [],
   "source": [
    "def roundmultiple(x, base=32):\n",
    "    return base * round(x/base)"
   ]
  },
  {
   "cell_type": "code",
   "execution_count": 9,
   "metadata": {},
   "outputs": [
    {
     "name": "stderr",
     "output_type": "stream",
     "text": [
      "100%|██████████| 27/27 [04:45<00:00, 10.57s/it]\n"
     ]
    }
   ],
   "source": [
    "patch_size = 64\n",
    "\n",
    "for image_name in tqdm(os.listdir(images_dir)):\n",
    "    image_name = image_name[:-4]\n",
    "    \n",
    "    image = cv2.imread(os.path.join(images_dir, image_name+\".jpg\"))\n",
    "    \n",
    "    height, width, _ = image.shape\n",
    "    new_height = roundmultiple(height, patch_size)\n",
    "    new_width = roundmultiple(width, patch_size)\n",
    "    \n",
    "    image = cv2.resize(image, (new_width, new_height))\n",
    "    \n",
    "    mask = cv2.imread(os.path.join(masks_dir, image_name+\".tif\"))\n",
    "    mask = cv2.cvtColor(mask, cv2.COLOR_BGR2GRAY)\n",
    "    mask = cv2.resize(mask, (new_width, new_height))\n",
    "    \n",
    "    pat_images_out_dir = os.path.join(images_out_dir, image_name)\n",
    "    pat_masks_out_dir = os.path.join(masks_out_dir, image_name)\n",
    "    if not os.path.isdir(pat_images_out_dir):\n",
    "        os.makedirs(pat_images_out_dir)\n",
    "    if not os.path.isdir(pat_masks_out_dir):\n",
    "        os.makedirs(pat_masks_out_dir)\n",
    "        \n",
    "    create_patches(image, patch_size, pat_images_out_dir)\n",
    "    create_patches(mask, patch_size, pat_masks_out_dir)"
   ]
  },
  {
   "cell_type": "code",
   "execution_count": null,
   "metadata": {},
   "outputs": [],
   "source": []
  }
 ],
 "metadata": {
  "kernelspec": {
   "display_name": "Python 3",
   "language": "python",
   "name": "python3"
  },
  "language_info": {
   "codemirror_mode": {
    "name": "ipython",
    "version": 3
   },
   "file_extension": ".py",
   "mimetype": "text/x-python",
   "name": "python",
   "nbconvert_exporter": "python",
   "pygments_lexer": "ipython3",
   "version": "3.7.6"
  }
 },
 "nbformat": 4,
 "nbformat_minor": 4
}
